{
 "cells": [
  {
   "cell_type": "code",
   "execution_count": 49,
   "id": "eade852c",
   "metadata": {},
   "outputs": [],
   "source": [
    "import pandas as pd\n",
    "import numpy as np\n"
   ]
  },
  {
   "cell_type": "code",
   "execution_count": 55,
   "id": "be1a1f57",
   "metadata": {},
   "outputs": [
    {
     "name": "stdout",
     "output_type": "stream",
     "text": [
      "                  Dataset_name  \\\n",
      "0  A hotel's customers dataset   \n",
      "1         hotel recommendation   \n",
      "2                 Hotel review   \n",
      "3       Hotel Booking Dataset    \n",
      "4               Hotel Booking    \n",
      "\n",
      "                                        Dataset_link  \n",
      "0  https://www.kaggle.com/datasets/nantonio/a-hot...  \n",
      "1  https://www.kaggle.com/datasets/keshavramaiah/...  \n",
      "2  https://www.kaggle.com/datasets/anu0012/hotel-...  \n",
      "3  https://www.kaggle.com/datasets/mukuldeshantri...  \n",
      "4  https://www.kaggle.com/datasets/mojtaba142/hot...  \n"
     ]
    }
   ],
   "source": [
    "import pandas as pd\n",
    "from sklearn.feature_extraction.text import TfidfVectorizer\n",
    "from sklearn.metrics.pairwise import cosine_similarity\n",
    "\n",
    "# Load your Excel file\n",
    "df = pd.read_excel(\"kaggle-prenew.xlsx\")\n",
    "\n",
    "# Convert dataset names to string to avoid errors\n",
    "df['Dataset_name'] = df['Dataset_name'].astype(str)\n",
    "\n",
    "# Vectorize using TF-IDF\n",
    "tfidf_vectorizer = TfidfVectorizer(stop_words='english')\n",
    "tfidf_matrix = tfidf_vectorizer.fit_transform(df['Dataset_name'])\n",
    "\n",
    "# Compute similarity\n",
    "cosine_sim_matrix = cosine_similarity(tfidf_matrix, tfidf_matrix)\n",
    "\n",
    "# Create name to index mapping\n",
    "name_to_index = pd.Series(df.index, index=df['Dataset_name']).drop_duplicates()\n",
    "\n",
    "# Function to recommend similar datasets\n",
    "def recommend_similar_datasets(title, num_results=5):\n",
    "    if title not in name_to_index:\n",
    "        return f\"❌ Dataset '{title}' not found.\"\n",
    "    \n",
    "    idx = name_to_index[title]\n",
    "    sim_scores = list(enumerate(cosine_sim_matrix[idx]))\n",
    "    sim_scores = sorted(sim_scores, key=lambda x: x[1], reverse=True)[1:num_results+1]\n",
    "    dataset_indices = [i[0] for i in sim_scores]\n",
    "    \n",
    "    return df[['Dataset_name', 'Dataset_link']].iloc[dataset_indices].reset_index(drop=True)\n",
    "\n",
    "# Example usage\n",
    "recommendations = recommend_similar_datasets(\"Hotel Reservations Dataset\", 5)\n",
    "print(recommendations)\n"
   ]
  },
  {
   "cell_type": "code",
   "execution_count": 58,
   "id": "03824083",
   "metadata": {},
   "outputs": [],
   "source": [
    "import pickle\n",
    "\n",
    "# Save vectorizer\n",
    "with open(\"tfidf_vectorizer.pkl\", \"wb\") as f:\n",
    "    pickle.dump(tfidf_vectorizer, f)\n"
   ]
  },
  {
   "cell_type": "code",
   "execution_count": 59,
   "id": "2e3f75d4",
   "metadata": {},
   "outputs": [
    {
     "name": "stdout",
     "output_type": "stream",
     "text": [
      "✅ df.pkl and cosine_sim.pkl saved successfully!\n"
     ]
    }
   ],
   "source": [
    "import pandas as pd\n",
    "import pickle\n",
    "from sklearn.metrics.pairwise import cosine_similarity\n",
    "\n",
    "# Load dataset again\n",
    "df = pd.read_excel(\"kaggle-prenew.xlsx\")\n",
    "df['Dataset_name'] = df['Dataset_name'].astype(str)\n",
    "\n",
    "# Load saved TF-IDF\n",
    "with open(\"tfidf_vectorizer.pkl\", \"rb\") as f:\n",
    "    tfidf = pickle.load(f)\n",
    "\n",
    "# Transform data\n",
    "tfidf_matrix = tfidf.transform(df['Dataset_name'])\n",
    "\n",
    "# Compute similarity\n",
    "cosine_sim = cosine_similarity(tfidf_matrix, tfidf_matrix)\n",
    "\n",
    "# Save both\n",
    "with open(\"df.pkl\", \"wb\") as f:\n",
    "    pickle.dump(df, f)\n",
    "\n",
    "with open(\"cosine_sim.pkl\", \"wb\") as f:\n",
    "    pickle.dump(cosine_sim, f)\n",
    "\n",
    "print(\"✅ df.pkl and cosine_sim.pkl saved successfully!\")"
   ]
  },
  {
   "cell_type": "code",
   "execution_count": 6,
   "id": "d5fbce1a",
   "metadata": {},
   "outputs": [
    {
     "name": "stdout",
     "output_type": "stream",
     "text": [
      "✅ model.pkl created successfully! (TF-IDF + DataFrame only)\n"
     ]
    }
   ],
   "source": [
    "import pandas as pd\n",
    "import pickle\n",
    "from sklearn.feature_extraction.text import TfidfVectorizer\n",
    "\n",
    "# Step 1: Load dataset\n",
    "df = pd.read_excel(\"kaggle-prenew.xlsx\")   # Replace with your file name\n",
    "\n",
    "# Step 2: Preprocessing (fill missing values)\n",
    "df['Dataset_name'] = df['Dataset_name'].fillna(\"\")\n",
    "\n",
    "# Step 3: Create TF-IDF Vectorizer\n",
    "tfidf_vectorizer = TfidfVectorizer(stop_words='english')\n",
    "tfidf_matrix = tfidf_vectorizer.fit_transform(df['Dataset_name'].astype(str))\n",
    "\n",
    "\n",
    "# Step 4: Prepare model dictionary\n",
    "model = {\n",
    "    'tfidf': tfidf_vectorizer,\n",
    "    'df': df\n",
    "}\n",
    "\n",
    "# Step 5: Save the model as model.pkl\n",
    "with open('model.pkl', 'wb') as f:\n",
    "    pickle.dump(model, f)\n",
    "\n",
    "print(\"✅ model.pkl created successfully! (TF-IDF + DataFrame only)\")\n"
   ]
  },
  {
   "cell_type": "code",
   "execution_count": 1,
   "id": "43b6488f",
   "metadata": {},
   "outputs": [
    {
     "name": "stdout",
     "output_type": "stream",
     "text": [
      "Top matches:\n",
      "\n",
      "→ Fashion Clothing Products Dataset (Similarity: 0.5050)\n",
      "→ Ajio Fashion Clothing  (Similarity: 0.4502)\n",
      "→ Shopping (Similarity: 0.4427)\n",
      "→ Clothing Fit Dataset for Size Recommendation (Similarity: 0.4218)\n",
      "→ Fashion Dataset (Similarity: 0.3790)\n"
     ]
    }
   ],
   "source": [
    "import pickle\n",
    "from sklearn.metrics.pairwise import cosine_similarity\n",
    "\n",
    "# Step 1: Load model.pkl\n",
    "with open('model.pkl', 'rb') as f:\n",
    "    model = pickle.load(f)\n",
    "\n",
    "# Step 2: Extract vectorizer and dataframe\n",
    "tfidf_vectorizer = model['tfidf']\n",
    "df = model['df']\n",
    "\n",
    "# Step 3: User input\n",
    "user_input = \"clothing size fashion wear shopping\"\n",
    "# Step 4: Transform input into TF-IDF vector\n",
    "user_vector = tfidf_vectorizer.transform([user_input])\n",
    "\n",
    "# Step 5: Compute cosine similarity with all dataset entries\n",
    "dataset_vectors = tfidf_vectorizer.transform(df['Dataset_name'].astype(str))\n",
    "similarities = cosine_similarity(user_vector, dataset_vectors)\n",
    "\n",
    "# Step 6: Get top 5 similar datasets\n",
    "top_n = 5\n",
    "top_indices = similarities[0].argsort()[-top_n:][::-1]\n",
    "\n",
    "# Step 7: Display results\n",
    "print(\"Top matches:\\n\")\n",
    "for i in top_indices:\n",
    "    print(f\"→ {df.iloc[i]['Dataset_name']} (Similarity: {similarities[0][i]:.4f})\")\n"
   ]
  },
  {
   "cell_type": "code",
   "execution_count": 1,
   "id": "375f8e2c",
   "metadata": {},
   "outputs": [
    {
     "name": "stdout",
     "output_type": "stream",
     "text": [
      "✅ model.pkl saved successfully.\n"
     ]
    }
   ],
   "source": [
    "from sklearn.feature_extraction.text import TfidfVectorizer\n",
    "import pandas as pd\n",
    "import pickle\n",
    "\n",
    "df = pd.read_excel(\"kaggle-prenew.xlsx\")\n",
    "df[\"Dataset_name\"] = df[\"Dataset_name\"].fillna(\"\")\n",
    "\n",
    "tfidf = TfidfVectorizer(stop_words='english')\n",
    "tfidf_matrix = tfidf.fit_transform(df[\"Dataset_name\"].astype(str))\n",
    "\n",
    "model = {\n",
    "    \"df\": df,\n",
    "    \"tfidf\": tfidf    # ✅ Save vectorizer, not the matrix\n",
    "}\n",
    "\n",
    "with open(\"model.pkl\", \"wb\") as f:\n",
    "    pickle.dump(model, f)\n",
    "\n",
    "print(\"✅ model.pkl saved successfully.\")\n"
   ]
  }
 ],
 "metadata": {
  "kernelspec": {
   "display_name": "Python 3",
   "language": "python",
   "name": "python3"
  },
  "language_info": {
   "codemirror_mode": {
    "name": "ipython",
    "version": 3
   },
   "file_extension": ".py",
   "mimetype": "text/x-python",
   "name": "python",
   "nbconvert_exporter": "python",
   "pygments_lexer": "ipython3",
   "version": "3.10.0"
  }
 },
 "nbformat": 4,
 "nbformat_minor": 5
}
