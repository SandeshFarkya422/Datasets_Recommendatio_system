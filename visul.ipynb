{
 "cells": [
  {
   "cell_type": "code",
   "execution_count": 49,
   "id": "eade852c",
   "metadata": {},
   "outputs": [],
   "source": [
    "import pandas as pd\n",
    "import numpy as np\n"
   ]
  },
  {
   "cell_type": "code",
   "execution_count": null,
   "id": "82e6b070",
   "metadata": {},
   "outputs": [],
   "source": [
    "df=pd.read_csv('kaggle-preprocessed.csv')"
   ]
  },
  {
   "cell_type": "code",
   "execution_count": null,
   "id": "50f5e311",
   "metadata": {},
   "outputs": [],
   "source": [
    "df"
   ]
  },
  {
   "cell_type": "code",
   "execution_count": null,
   "id": "e22065a8",
   "metadata": {},
   "outputs": [],
   "source": [
    "df.info()\n",
    "df.isnull().sum()"
   ]
  },
  {
   "cell_type": "code",
   "execution_count": null,
   "id": "b4dc55d9",
   "metadata": {},
   "outputs": [],
   "source": [
    "df.groupby('Type_of_file').size().reset_index(name='Count')"
   ]
  },
  {
   "cell_type": "code",
   "execution_count": null,
   "id": "6f7b7caf",
   "metadata": {},
   "outputs": [],
   "source": [
    "# fillna in Types of files\n",
    "df['Type_of_file'] = df['Type_of_file'].fillna('CSV')\n"
   ]
  },
  {
   "cell_type": "code",
   "execution_count": null,
   "id": "6e143d80",
   "metadata": {},
   "outputs": [],
   "source": [
    "df = df.drop('Unnamed: 0', axis=1)"
   ]
  },
  {
   "cell_type": "code",
   "execution_count": null,
   "id": "8a44f02e",
   "metadata": {},
   "outputs": [],
   "source": [
    "df.to_csv('kaggle-prenew.csv', index=False)"
   ]
  },
  {
   "cell_type": "code",
   "execution_count": 52,
   "id": "8154ec5d",
   "metadata": {},
   "outputs": [],
   "source": [
    "df=pd.read_excel(\"kaggle-prenew.xlsx\")"
   ]
  },
  {
   "cell_type": "code",
   "execution_count": 55,
   "id": "be1a1f57",
   "metadata": {},
   "outputs": [
    {
     "name": "stdout",
     "output_type": "stream",
     "text": [
      "                  Dataset_name  \\\n",
      "0  A hotel's customers dataset   \n",
      "1         hotel recommendation   \n",
      "2                 Hotel review   \n",
      "3       Hotel Booking Dataset    \n",
      "4               Hotel Booking    \n",
      "\n",
      "                                        Dataset_link  \n",
      "0  https://www.kaggle.com/datasets/nantonio/a-hot...  \n",
      "1  https://www.kaggle.com/datasets/keshavramaiah/...  \n",
      "2  https://www.kaggle.com/datasets/anu0012/hotel-...  \n",
      "3  https://www.kaggle.com/datasets/mukuldeshantri...  \n",
      "4  https://www.kaggle.com/datasets/mojtaba142/hot...  \n"
     ]
    }
   ],
   "source": [
    "import pandas as pd\n",
    "from sklearn.feature_extraction.text import TfidfVectorizer\n",
    "from sklearn.metrics.pairwise import cosine_similarity\n",
    "\n",
    "# Load your Excel file\n",
    "df = pd.read_excel(\"kaggle-prenew.xlsx\")\n",
    "\n",
    "# Convert dataset names to string to avoid errors\n",
    "df['Dataset_name'] = df['Dataset_name'].astype(str)\n",
    "\n",
    "# Vectorize using TF-IDF\n",
    "tfidf_vectorizer = TfidfVectorizer(stop_words='english')\n",
    "tfidf_matrix = tfidf_vectorizer.fit_transform(df['Dataset_name'])\n",
    "\n",
    "# Compute similarity\n",
    "cosine_sim_matrix = cosine_similarity(tfidf_matrix, tfidf_matrix)\n",
    "\n",
    "# Create name to index mapping\n",
    "name_to_index = pd.Series(df.index, index=df['Dataset_name']).drop_duplicates()\n",
    "\n",
    "# Function to recommend similar datasets\n",
    "def recommend_similar_datasets(title, num_results=5):\n",
    "    if title not in name_to_index:\n",
    "        return f\"❌ Dataset '{title}' not found.\"\n",
    "    \n",
    "    idx = name_to_index[title]\n",
    "    sim_scores = list(enumerate(cosine_sim_matrix[idx]))\n",
    "    sim_scores = sorted(sim_scores, key=lambda x: x[1], reverse=True)[1:num_results+1]\n",
    "    dataset_indices = [i[0] for i in sim_scores]\n",
    "    \n",
    "    return df[['Dataset_name', 'Dataset_link']].iloc[dataset_indices].reset_index(drop=True)\n",
    "\n",
    "# Example usage\n",
    "recommendations = recommend_similar_datasets(\"Hotel Reservations Dataset\", 5)\n",
    "print(recommendations)\n"
   ]
  },
  {
   "cell_type": "code",
   "execution_count": 58,
   "id": "03824083",
   "metadata": {},
   "outputs": [],
   "source": [
    "import pickle\n",
    "\n",
    "# Save vectorizer\n",
    "with open(\"tfidf_vectorizer.pkl\", \"wb\") as f:\n",
    "    pickle.dump(tfidf_vectorizer, f)\n"
   ]
  },
  {
   "cell_type": "code",
   "execution_count": 59,
   "id": "2e3f75d4",
   "metadata": {},
   "outputs": [
    {
     "name": "stdout",
     "output_type": "stream",
     "text": [
      "✅ df.pkl and cosine_sim.pkl saved successfully!\n"
     ]
    }
   ],
   "source": [
    "import pandas as pd\n",
    "import pickle\n",
    "from sklearn.metrics.pairwise import cosine_similarity\n",
    "\n",
    "# Load dataset again\n",
    "df = pd.read_excel(\"kaggle-prenew.xlsx\")\n",
    "df['Dataset_name'] = df['Dataset_name'].astype(str)\n",
    "\n",
    "# Load saved TF-IDF\n",
    "with open(\"tfidf_vectorizer.pkl\", \"rb\") as f:\n",
    "    tfidf = pickle.load(f)\n",
    "\n",
    "# Transform data\n",
    "tfidf_matrix = tfidf.transform(df['Dataset_name'])\n",
    "\n",
    "# Compute similarity\n",
    "cosine_sim = cosine_similarity(tfidf_matrix, tfidf_matrix)\n",
    "\n",
    "# Save both\n",
    "with open(\"df.pkl\", \"wb\") as f:\n",
    "    pickle.dump(df, f)\n",
    "\n",
    "with open(\"cosine_sim.pkl\", \"wb\") as f:\n",
    "    pickle.dump(cosine_sim, f)\n",
    "\n",
    "print(\"✅ df.pkl and cosine_sim.pkl saved successfully!\")"
   ]
  },
  {
   "cell_type": "code",
   "execution_count": 60,
   "id": "e690bc53",
   "metadata": {},
   "outputs": [],
   "source": [
    "# Load files\n",
    "with open(\"df.pkl\", \"rb\") as f:\n",
    "    df = pickle.load(f)\n",
    "\n",
    "with open(\"tfidf_vectorizer.pkl\", \"rb\") as f:\n",
    "    tfidf = pickle.load(f)\n",
    "\n",
    "with open(\"cosine_sim.pkl\", \"rb\") as f:\n",
    "    cosine_sim = pickle.load(f)\n"
   ]
  },
  {
   "cell_type": "code",
   "execution_count": 61,
   "id": "34543ebb",
   "metadata": {},
   "outputs": [],
   "source": [
    "import difflib"
   ]
  },
  {
   "cell_type": "code",
   "execution_count": 64,
   "id": "6ce0b790",
   "metadata": {},
   "outputs": [
    {
     "name": "stdout",
     "output_type": "stream",
     "text": [
      "🔍 Closest match used: Netflix Dataset\n",
      "\n",
      "📊 Top 5 similar datasets to: 'Netflix Dataset'\n",
      "\n",
      "✅ Netflix Movies Dataset — Similarity Score: 0.7864\n",
      "✅ Dataset: NetFlix Shows — Similarity Score: 0.7248\n",
      "✅ Netflix Shows DataSet — Similarity Score: 0.7248\n",
      "✅ Most popular on Netflix — Similarity Score: 0.6329\n",
      "✅ Netflix Dataset Latest 2021 — Similarity Score: 0.6308\n"
     ]
    }
   ],
   "source": [
    "import pickle\n",
    "import pandas as pd\n",
    "import difflib\n",
    "\n",
    "# Load required files\n",
    "with open(\"df.pkl\", \"rb\") as f:\n",
    "    df = pickle.load(f)\n",
    "\n",
    "with open(\"tfidf_vectorizer.pkl\", \"rb\") as f:\n",
    "    tfidf = pickle.load(f)\n",
    "\n",
    "with open(\"cosine_sim.pkl\", \"rb\") as f:\n",
    "    cosine_sim = pickle.load(f)\n",
    "\n",
    "# Create index mapping\n",
    "df['Dataset_name'] = df['Dataset_name'].astype(str)\n",
    "indices = pd.Series(df.index, index=df['Dataset_name']).drop_duplicates()\n",
    "\n",
    "# Function to print top N similar datasets with similarity scores\n",
    "def get_top_similarities(title, num=5):\n",
    "    if title not in indices:\n",
    "        matches = difflib.get_close_matches(title, indices.index, n=1, cutoff=0.3)\n",
    "        if not matches:\n",
    "            print(f\"❌ No close match found for: {title}\")\n",
    "            return\n",
    "        title = matches[0]\n",
    "        print(f\"🔍 Closest match used: {title}\")\n",
    "        \n",
    "    idx = indices[title]\n",
    "    sim_scores = list(enumerate(cosine_sim[idx]))\n",
    "    sim_scores = sorted(sim_scores, key=lambda x: x[1], reverse=True)[1:num+1]\n",
    "    \n",
    "    print(f\"\\n📊 Top {num} similar datasets to: '{title}'\\n\")\n",
    "    for i, score in sim_scores:\n",
    "        print(f\"✅ {df.iloc[i]['Dataset_name']} — Similarity Score: {score:.4f}\")\n",
    "\n",
    "# Example usage\n",
    "get_top_similarities(\"Netflix\")\n"
   ]
  },
  {
   "cell_type": "code",
   "execution_count": null,
   "id": "97962d73",
   "metadata": {},
   "outputs": [
    {
     "ename": "NameError",
     "evalue": "name 'tfidf_vectorizer' is not defined",
     "output_type": "error",
     "traceback": [
      "\u001b[1;31m---------------------------------------------------------------------------\u001b[0m",
      "\u001b[1;31mNameError\u001b[0m                                 Traceback (most recent call last)",
      "Cell \u001b[1;32mIn[2], line 5\u001b[0m\n\u001b[0;32m      1\u001b[0m \u001b[38;5;28;01mimport\u001b[39;00m\u001b[38;5;250m \u001b[39m\u001b[38;5;21;01mpickle\u001b[39;00m\n\u001b[0;32m      2\u001b[0m \u001b[38;5;28;01mfrom\u001b[39;00m\u001b[38;5;250m \u001b[39m\u001b[38;5;21;01msklearn\u001b[39;00m\u001b[38;5;21;01m.\u001b[39;00m\u001b[38;5;21;01mmetrics\u001b[39;00m\u001b[38;5;21;01m.\u001b[39;00m\u001b[38;5;21;01mpairwise\u001b[39;00m\u001b[38;5;250m \u001b[39m\u001b[38;5;28;01mimport\u001b[39;00m cosine_similarity\n\u001b[0;32m      4\u001b[0m model \u001b[38;5;241m=\u001b[39m {\n\u001b[1;32m----> 5\u001b[0m     \u001b[38;5;124m'\u001b[39m\u001b[38;5;124mtfidf_matrix \u001b[39m\u001b[38;5;124m'\u001b[39m: \u001b[43mtfidf_vectorizer\u001b[49m,\n\u001b[0;32m      6\u001b[0m     \u001b[38;5;124m'\u001b[39m\u001b[38;5;124mcosine_sim\u001b[39m\u001b[38;5;124m'\u001b[39m: cosine_similarity(tfidf_matrix),\n\u001b[0;32m      7\u001b[0m     \u001b[38;5;124m'\u001b[39m\u001b[38;5;124mdf\u001b[39m\u001b[38;5;124m'\u001b[39m: df\n\u001b[0;32m      8\u001b[0m }\n\u001b[0;32m     10\u001b[0m \u001b[38;5;28;01mwith\u001b[39;00m \u001b[38;5;28mopen\u001b[39m(\u001b[38;5;124m'\u001b[39m\u001b[38;5;124mmodel.pkl\u001b[39m\u001b[38;5;124m'\u001b[39m, \u001b[38;5;124m'\u001b[39m\u001b[38;5;124mwb\u001b[39m\u001b[38;5;124m'\u001b[39m) \u001b[38;5;28;01mas\u001b[39;00m f:\n\u001b[0;32m     11\u001b[0m     pickle\u001b[38;5;241m.\u001b[39mdump(model, f)\n",
      "\u001b[1;31mNameError\u001b[0m: name 'tfidf_vectorizer' is not defined"
     ]
    }
   ],
   "source": [
    "import pickle\n",
    "from sklearn.metrics.pairwise import cosine_similarity\n",
    "\n",
    "model = {\n",
    "    'tfidf': tfidf_vectorizer,\n",
    "    'cosine_sim': cosine_similarity(tfidf_matrix),\n",
    "    'df': df\n",
    "}\n",
    "\n",
    "with open('model.pkl', 'wb') as f:\n",
    "    pickle.dump(model, f)"
   ]
  },
  {
   "cell_type": "code",
   "execution_count": 6,
   "id": "d5fbce1a",
   "metadata": {},
   "outputs": [
    {
     "name": "stdout",
     "output_type": "stream",
     "text": [
      "✅ model.pkl created successfully! (TF-IDF + DataFrame only)\n"
     ]
    }
   ],
   "source": [
    "import pandas as pd\n",
    "import pickle\n",
    "from sklearn.feature_extraction.text import TfidfVectorizer\n",
    "\n",
    "# Step 1: Load dataset\n",
    "df = pd.read_excel(\"kaggle-prenew.xlsx\")   # Replace with your file name\n",
    "\n",
    "# Step 2: Preprocessing (fill missing values)\n",
    "df['Dataset_name'] = df['Dataset_name'].fillna(\"\")\n",
    "\n",
    "# Step 3: Create TF-IDF Vectorizer\n",
    "tfidf_vectorizer = TfidfVectorizer(stop_words='english')\n",
    "tfidf_matrix = tfidf_vectorizer.fit_transform(df['Dataset_name'].astype(str))\n",
    "\n",
    "\n",
    "# Step 4: Prepare model dictionary\n",
    "model = {\n",
    "    'tfidf': tfidf_vectorizer,\n",
    "    'df': df\n",
    "}\n",
    "\n",
    "# Step 5: Save the model as model.pkl\n",
    "with open('model.pkl', 'wb') as f:\n",
    "    pickle.dump(model, f)\n",
    "\n",
    "print(\"✅ model.pkl created successfully! (TF-IDF + DataFrame only)\")\n"
   ]
  },
  {
   "cell_type": "code",
   "execution_count": null,
   "id": "43b6488f",
   "metadata": {},
   "outputs": [],
   "source": []
  }
 ],
 "metadata": {
  "kernelspec": {
   "display_name": "Python 3",
   "language": "python",
   "name": "python3"
  },
  "language_info": {
   "codemirror_mode": {
    "name": "ipython",
    "version": 3
   },
   "file_extension": ".py",
   "mimetype": "text/x-python",
   "name": "python",
   "nbconvert_exporter": "python",
   "pygments_lexer": "ipython3",
   "version": "3.10.0"
  }
 },
 "nbformat": 4,
 "nbformat_minor": 5
}
